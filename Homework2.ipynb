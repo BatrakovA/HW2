{
 "cells": [
  {
   "cell_type": "markdown",
   "metadata": {},
   "source": [
    "Задание 1"
   ]
  },
  {
   "cell_type": "code",
   "execution_count": 32,
   "metadata": {},
   "outputs": [
    {
     "name": "stdout",
     "output_type": "stream",
     "text": [
      "t\n"
     ]
    }
   ],
   "source": [
    "word = 'testing'\n",
    "dlina=len(word)\n",
    "if dlina%2==0:\n",
    "    print(word[int(dlina/2-1):int(dlina/2+1)])\n",
    "else:\n",
    "    print(word[int(dlina/2)])"
   ]
  },
  {
   "cell_type": "markdown",
   "metadata": {},
   "source": [
    "Задание 2"
   ]
  },
  {
   "cell_type": "code",
   "execution_count": 33,
   "metadata": {},
   "outputs": [
    {
     "name": "stdout",
     "output_type": "stream",
     "text": [
      "Введите число:1\n",
      "Введите число:2\n",
      "Введите число:3\n",
      "Введите число:0\n",
      "Результат:\n",
      " 5\n"
     ]
    }
   ],
   "source": [
    "number=int(input('Введите число:'))\n",
    "sum=0\n",
    "while number!=0:\n",
    "    number=int(input('Введите число:'))\n",
    "    sum=sum+number\n",
    "print('Результат:\\n', sum)"
   ]
  },
  {
   "cell_type": "markdown",
   "metadata": {},
   "source": [
    "Задание 3"
   ]
  },
  {
   "cell_type": "code",
   "execution_count": 54,
   "metadata": {},
   "outputs": [
    {
     "name": "stdout",
     "output_type": "stream",
     "text": [
      "Идеальные пары:\n",
      "Alex и Emma\n",
      "Arthur и Kate\n",
      "John и Kira\n",
      "Peter и Liza\n",
      "Richard и Trisha\n"
     ]
    }
   ],
   "source": [
    "import copy\n",
    "i=0\n",
    "boys = ['Peter', 'Alex', 'John', 'Arthur', 'Richard']\n",
    "girls = ['Kate', 'Liza', 'Kira', 'Emma', 'Trisha']\n",
    "if len(boys)!=len(girls):\n",
    "    print('Внимание, кто-то может остаться без пары!')\n",
    "else:\n",
    "    boys_sorted=sorted(boys)\n",
    "    girls_sorted=sorted(girls)\n",
    "    print('Идеальные пары:')\n",
    "    while i < len(boys_sorted):\n",
    "        print(boys_sorted[i],'и',girls_sorted[i] )\n",
    "        i=i+1"
   ]
  },
  {
   "cell_type": "markdown",
   "metadata": {},
   "source": [
    "Задание 4"
   ]
  },
  {
   "cell_type": "code",
   "execution_count": 91,
   "metadata": {},
   "outputs": [
    {
     "name": "stdout",
     "output_type": "stream",
     "text": [
      "Thailand - 23.9 C\n",
      "Germany - 13.8 C\n",
      "Russia - 3.7 C\n",
      "Poland - 12.0 C\n"
     ]
    }
   ],
   "source": [
    "import math\n",
    "i=0\n",
    "countries_temperature = [\n",
    "    ['Thailand', [75.2, 77, 78.8, 73.4, 68, 75.2, 77]],\n",
    "    ['Germany', [57.2, 55.4, 59, 59, 53.6]],\n",
    "    ['Russia', [35.6, 37.4, 39.2, 41, 42.8, 39.2, 35.6]],\n",
    "    ['Poland', [50, 50, 53.6, 57.2, 55.4, 55.4]]\n",
    "]\n",
    "\n",
    "while i < len(countries_temperature):\n",
    "    e=countries_temperature[i][1]\n",
    "    print(countries_temperature[i][0],'-',round((math.fsum(e)/len(e)-32)/1.8,1),'C')\n",
    "    i=i+1"
   ]
  },
  {
   "cell_type": "markdown",
   "metadata": {},
   "source": [
    "Задание 5"
   ]
  },
  {
   "cell_type": "code",
   "execution_count": 125,
   "metadata": {},
   "outputs": [
    {
     "name": "stdout",
     "output_type": "stream",
     "text": [
      "Среднее количество просмотров на уникального пользователя:  23.25\n"
     ]
    }
   ],
   "source": [
    "stream = [\n",
    "'2018-01-01,user1,3',\n",
    "'2018-01-07,user1,4',\n",
    "'2018-03-29,user1,1',\n",
    "'2018-04-04,user1,13',\n",
    "'2018-01-05,user2,7',\n",
    "'2018-06-14,user3,4',\n",
    "'2018-07-02,user3,10',\n",
    "'2018-03-21,user4,19',\n",
    "'2018-03-22,user4,4',\n",
    "'2018-04-22,user4,8',\n",
    "'2018-05-03,user4,9',\n",
    "'2018-05-11,user4,11',\n",
    "]\n",
    "result_user=[]\n",
    "summa=0\n",
    "for i in stream:\n",
    "    i=i.split(',')\n",
    "    summa=summa+int(i[2])\n",
    "    result_user.append(i[1])\n",
    "print('Среднее количество просмотров на уникального пользователя: ',round(summa/len(set(result_user)),2))"
   ]
  },
  {
   "cell_type": "code",
   "execution_count": 126,
   "metadata": {},
   "outputs": [
    {
     "name": "stdout",
     "output_type": "stream",
     "text": [
      "Среднее количество просмотров на уникального пользователя:  145.33\n"
     ]
    }
   ],
   "source": [
    "stream = [\n",
    "'2018-01-01,user100,150',\n",
    "'2018-01-07,user99,205',\n",
    "'2018-03-29,user1001,81'\n",
    "]\n",
    "result_user=[]\n",
    "summa=0\n",
    "for i in stream:\n",
    "    i=i.split(',')\n",
    "    summa=summa+int(i[2])\n",
    "    result_user.append(i[1])\n",
    "print('Среднее количество просмотров на уникального пользователя: ',round(summa/len(set(result_user)),2))"
   ]
  },
  {
   "cell_type": "markdown",
   "metadata": {},
   "source": [
    "Задание 6"
   ]
  },
  {
   "cell_type": "code",
   "execution_count": 9,
   "metadata": {},
   "outputs": [
    {
     "name": "stdout",
     "output_type": "stream",
     "text": [
      "Введите числa:1 1 1 2 2 2\n",
      "1 2\n"
     ]
    }
   ],
   "source": [
    "#number=int(input('Введите число:'))\n",
    "\n",
    "string=str(input('Введите числa:'))\n",
    "spisok=string.split(' ')\n",
    "spisok_dublei=[]\n",
    "for i in set(spisok):\n",
    "    if spisok.count(i) > 1:\n",
    "         spisok_dublei.append(i)\n",
    "spisok_dublei\n",
    "if len(spisok_dublei)>0:\n",
    "    print(' '.join(spisok_dublei))\n",
    "else:\n",
    "    print('Повторяющихся чисел нет')"
   ]
  },
  {
   "cell_type": "code",
   "execution_count": null,
   "metadata": {},
   "outputs": [],
   "source": []
  }
 ],
 "metadata": {
  "kernelspec": {
   "display_name": "Python 3",
   "language": "python",
   "name": "python3"
  },
  "language_info": {
   "codemirror_mode": {
    "name": "ipython",
    "version": 3
   },
   "file_extension": ".py",
   "mimetype": "text/x-python",
   "name": "python",
   "nbconvert_exporter": "python",
   "pygments_lexer": "ipython3",
   "version": "3.8.5"
  }
 },
 "nbformat": 4,
 "nbformat_minor": 4
}
